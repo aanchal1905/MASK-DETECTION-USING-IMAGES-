{
 "cells": [
  {
   "cell_type": "code",
   "execution_count": 1,
   "id": "neural-louis",
   "metadata": {},
   "outputs": [],
   "source": [
    "  \n",
    "from tensorflow.keras.applications.mobilenet_v2 import preprocess_input\n",
    "from tensorflow.keras.preprocessing.image import img_to_array\n",
    "from tensorflow.keras.models import load_model\n",
    "import numpy as np\n",
    "import cv2\n",
    "import os\n",
    "from imutils.video import VideoStream\n",
    "import imutils\n"
   ]
  },
  {
   "cell_type": "code",
   "execution_count": 12,
   "id": "gross-intelligence",
   "metadata": {},
   "outputs": [],
   "source": [
    "prototxtPath=os.path.sep.join([r'D:\\DATASET\\dataset-20210131T172437Z-001\\dataset','deploy.prototxt'])\n",
    "weightsPath=os.path.sep.join([r'D:\\DATASET\\dataset-20210131T172437Z-001\\dataset','res10_300x300_ssd_iter_140000.caffemodel'])"
   ]
  },
  {
   "cell_type": "code",
   "execution_count": 13,
   "id": "defined-tamil",
   "metadata": {},
   "outputs": [
    {
     "data": {
      "text/plain": [
       "'D:\\\\DATASET\\\\dataset-20210131T172437Z-001\\\\dataset\\\\deploy.prototxt'"
      ]
     },
     "execution_count": 13,
     "metadata": {},
     "output_type": "execute_result"
    }
   ],
   "source": [
    "prototxtPath"
   ]
  },
  {
   "cell_type": "code",
   "execution_count": 14,
   "id": "federal-charm",
   "metadata": {},
   "outputs": [
    {
     "data": {
      "text/plain": [
       "'D:\\\\DATASET\\\\dataset-20210131T172437Z-001\\\\dataset\\\\res10_300x300_ssd_iter_140000.caffemodel'"
      ]
     },
     "execution_count": 14,
     "metadata": {},
     "output_type": "execute_result"
    }
   ],
   "source": [
    "weightsPath"
   ]
  },
  {
   "cell_type": "code",
   "execution_count": 15,
   "id": "traditional-insulation",
   "metadata": {},
   "outputs": [],
   "source": [
    "net=cv2.dnn.readNet(prototxtPath,weightsPath)"
   ]
  },
  {
   "cell_type": "code",
   "execution_count": 17,
   "id": "radio-publicity",
   "metadata": {},
   "outputs": [],
   "source": [
    "model=load_model(r'D:\\DATASET\\dataset-20210131T172437Z-001\\mobilenet_v2.model')"
   ]
  },
  {
   "cell_type": "code",
   "execution_count": 18,
   "id": "graphic-terry",
   "metadata": {},
   "outputs": [],
   "source": [
    "image=cv2.imread(r'D:\\DATASET\\dataset-20210131T172437Z-001\\examples\\example_03.png')"
   ]
  },
  {
   "cell_type": "code",
   "execution_count": 19,
   "id": "premium-shopping",
   "metadata": {},
   "outputs": [
    {
     "data": {
      "text/plain": [
       "array([[[152, 153, 148],\n",
       "        [149, 150, 146],\n",
       "        [149, 150, 146],\n",
       "        ...,\n",
       "        [147, 150, 148],\n",
       "        [145, 148, 146],\n",
       "        [146, 149, 147]],\n",
       "\n",
       "       [[147, 149, 146],\n",
       "        [148, 151, 146],\n",
       "        [150, 152, 147],\n",
       "        ...,\n",
       "        [150, 152, 149],\n",
       "        [146, 149, 147],\n",
       "        [145, 148, 146]],\n",
       "\n",
       "       [[145, 148, 147],\n",
       "        [147, 150, 147],\n",
       "        [150, 154, 149],\n",
       "        ...,\n",
       "        [153, 153, 151],\n",
       "        [150, 152, 150],\n",
       "        [147, 151, 149]],\n",
       "\n",
       "       ...,\n",
       "\n",
       "       [[131, 130, 134],\n",
       "        [129, 129, 132],\n",
       "        [129, 129, 130],\n",
       "        ...,\n",
       "        [173, 177, 181],\n",
       "        [176, 182, 186],\n",
       "        [180, 187, 191]],\n",
       "\n",
       "       [[133, 131, 136],\n",
       "        [127, 128, 130],\n",
       "        [130, 133, 133],\n",
       "        ...,\n",
       "        [179, 184, 187],\n",
       "        [181, 187, 190],\n",
       "        [183, 191, 194]],\n",
       "\n",
       "       [[130, 130, 135],\n",
       "        [127, 128, 133],\n",
       "        [127, 129, 132],\n",
       "        ...,\n",
       "        [184, 189, 192],\n",
       "        [184, 190, 193],\n",
       "        [186, 193, 196]]], dtype=uint8)"
      ]
     },
     "execution_count": 19,
     "metadata": {},
     "output_type": "execute_result"
    }
   ],
   "source": [
    "image"
   ]
  },
  {
   "cell_type": "code",
   "execution_count": 20,
   "id": "another-matrix",
   "metadata": {},
   "outputs": [],
   "source": [
    "\n",
    "(h,w)=image.shape[:2]\n"
   ]
  },
  {
   "cell_type": "code",
   "execution_count": 21,
   "id": "explicit-network",
   "metadata": {},
   "outputs": [
    {
     "data": {
      "text/plain": [
       "(400, 600)"
      ]
     },
     "execution_count": 21,
     "metadata": {},
     "output_type": "execute_result"
    }
   ],
   "source": [
    "(h,w)"
   ]
  },
  {
   "cell_type": "code",
   "execution_count": 22,
   "id": "driven-lawsuit",
   "metadata": {},
   "outputs": [],
   "source": [
    "blob=cv2.dnn.blobFromImage(image,1.0,(300,300),(104.0,177.0,123.0))"
   ]
  },
  {
   "cell_type": "code",
   "execution_count": 23,
   "id": "chicken-active",
   "metadata": {},
   "outputs": [
    {
     "data": {
      "text/plain": [
       "array([[[[ 46.,  44.,  46., ...,  47.,  44.,  41.],\n",
       "         [ 43.,  45.,  44., ...,  43.,  46.,  43.],\n",
       "         [ 43.,  44.,  41., ...,  41.,  47.,  46.],\n",
       "         ...,\n",
       "         [ 26.,  27.,  34., ...,  45.,  63.,  73.],\n",
       "         [ 26.,  27.,  32., ...,  52.,  69.,  76.],\n",
       "         [ 25.,  25.,  33., ...,  62.,  77.,  80.]],\n",
       "\n",
       "        [[-26., -27., -24., ..., -26., -27., -29.],\n",
       "         [-27., -25., -26., ..., -27., -26., -27.],\n",
       "         [-26., -25., -25., ..., -29., -25., -26.],\n",
       "         ...,\n",
       "         [-48., -45., -35., ..., -29.,  -8.,   6.],\n",
       "         [-47., -44., -37., ..., -22.,  -1.,  10.],\n",
       "         [-48., -46., -36., ..., -12.,   7.,  14.]],\n",
       "\n",
       "        [[ 24.,  22.,  22., ...,  24.,  24.,  23.],\n",
       "         [ 24.,  24.,  22., ...,  22.,  25.,  25.],\n",
       "         [ 25.,  25.,  22., ...,  20.,  26.,  26.],\n",
       "         ...,\n",
       "         [ 10.,   9.,  20., ...,  28.,  48.,  62.],\n",
       "         [ 10.,  10.,  17., ...,  37.,  56.,  67.],\n",
       "         [ 11.,  10.,  20., ...,  46.,  64.,  71.]]]], dtype=float32)"
      ]
     },
     "execution_count": 23,
     "metadata": {},
     "output_type": "execute_result"
    }
   ],
   "source": [
    "\n",
    "blob"
   ]
  },
  {
   "cell_type": "code",
   "execution_count": 24,
   "id": "iraqi-stanford",
   "metadata": {},
   "outputs": [
    {
     "data": {
      "text/plain": [
       "(1, 3, 300, 300)"
      ]
     },
     "execution_count": 24,
     "metadata": {},
     "output_type": "execute_result"
    }
   ],
   "source": [
    "\n",
    "blob.shape"
   ]
  },
  {
   "cell_type": "code",
   "execution_count": 25,
   "id": "third-director",
   "metadata": {},
   "outputs": [],
   "source": [
    "net.setInput(blob)\n",
    "detections=net.forward()"
   ]
  },
  {
   "cell_type": "code",
   "execution_count": 26,
   "id": "light-provider",
   "metadata": {},
   "outputs": [
    {
     "data": {
      "text/plain": [
       "array([[[[0.        , 1.        , 0.9996724 , ..., 0.18173476,\n",
       "          0.4329286 , 0.4609872 ],\n",
       "         [0.        , 1.        , 0.8111837 , ..., 0.02572085,\n",
       "          0.9942617 , 0.34080845],\n",
       "         [0.        , 1.        , 0.43454096, ..., 0.19513153,\n",
       "          0.65238404, 0.6432173 ],\n",
       "         ...,\n",
       "         [0.        , 0.        , 0.        , ..., 0.        ,\n",
       "          0.        , 0.        ],\n",
       "         [0.        , 0.        , 0.        , ..., 0.        ,\n",
       "          0.        , 0.        ],\n",
       "         [0.        , 0.        , 0.        , ..., 0.        ,\n",
       "          0.        , 0.        ]]]], dtype=float32)"
      ]
     },
     "execution_count": 26,
     "metadata": {},
     "output_type": "execute_result"
    }
   ],
   "source": [
    "detections\n"
   ]
  },
  {
   "cell_type": "code",
   "execution_count": 27,
   "id": "opening-differential",
   "metadata": {},
   "outputs": [
    {
     "ename": "KeyboardInterrupt",
     "evalue": "",
     "output_type": "error",
     "traceback": [
      "\u001b[1;31m---------------------------------------------------------------------------\u001b[0m",
      "\u001b[1;31mKeyboardInterrupt\u001b[0m                         Traceback (most recent call last)",
      "\u001b[1;32m<ipython-input-27-ae13ff150840>\u001b[0m in \u001b[0;36m<module>\u001b[1;34m\u001b[0m\n\u001b[0;32m     38\u001b[0m \u001b[1;33m\u001b[0m\u001b[0m\n\u001b[0;32m     39\u001b[0m \u001b[0mcv2\u001b[0m\u001b[1;33m.\u001b[0m\u001b[0mimshow\u001b[0m\u001b[1;33m(\u001b[0m\u001b[1;34m\"OutPut\"\u001b[0m\u001b[1;33m,\u001b[0m\u001b[0mimage\u001b[0m\u001b[1;33m)\u001b[0m\u001b[1;33m\u001b[0m\u001b[1;33m\u001b[0m\u001b[0m\n\u001b[1;32m---> 40\u001b[1;33m \u001b[0mcv2\u001b[0m\u001b[1;33m.\u001b[0m\u001b[0mwaitKey\u001b[0m\u001b[1;33m(\u001b[0m\u001b[1;36m0\u001b[0m\u001b[1;33m)\u001b[0m\u001b[1;33m\u001b[0m\u001b[1;33m\u001b[0m\u001b[0m\n\u001b[0m\u001b[0;32m     41\u001b[0m \u001b[0mcv2\u001b[0m\u001b[1;33m.\u001b[0m\u001b[0mdestroyAllWindows\u001b[0m\u001b[1;33m(\u001b[0m\u001b[1;33m)\u001b[0m\u001b[1;33m\u001b[0m\u001b[1;33m\u001b[0m\u001b[0m\n",
      "\u001b[1;31mKeyboardInterrupt\u001b[0m: "
     ]
    }
   ],
   "source": [
    "#loop over the detections\n",
    "for i in range(0,detections.shape[2]):\n",
    "    confidence=detections[0,0,i,2]\n",
    "    \n",
    "    \n",
    "    if confidence>0.5:\n",
    "        #we need the X,Y coordinates\n",
    "        box=detections[0,0,i,3:7]*np.array([w,h,w,h])\n",
    "        (startX,startY,endX,endY)=box.astype('int')\n",
    "        \n",
    "        #ensure the bounding boxes fall within the dimensions of the frame\n",
    "        (startX,startY)=(max(0,startX),max(0,startY))\n",
    "        (endX,endY)=(min(w-1,endX), min(h-1,endY))\n",
    "        \n",
    "        \n",
    "        #extract the face ROI, convert it from BGR to RGB channel, resize it to 224,224 and preprocess it\n",
    "        face=image[startY:endY, startX:endX]\n",
    "        face=cv2.cvtColor(face,cv2.COLOR_BGR2RGB)\n",
    "        face=cv2.resize(face,(224,224))\n",
    "        face=img_to_array(face)\n",
    "        face=preprocess_input(face)\n",
    "        face=np.expand_dims(face,axis=0)\n",
    "        \n",
    "        (mask,withoutMask)=model.predict(face)[0]\n",
    "        \n",
    "        #determine the class label and color we will use to draw the bounding box and text\n",
    "        label='Mask' if mask>withoutMask else 'No Mask'\n",
    "        color=(0,255,0) if label=='Mask' else (0,0,255)\n",
    "        \n",
    "        #include the probability in the label\n",
    "        label=\"{}: {:.2f}%\".format(label,max(mask,withoutMask)*100)\n",
    "        \n",
    "        #display the label and bounding boxes\n",
    "        cv2.putText(image,label,(startX,startY-10),cv2.FONT_HERSHEY_SIMPLEX,0.45,color,2)\n",
    "        cv2.rectangle(image,(startX,startY),(endX,endY),color,2)\n",
    "        \n",
    "        \n",
    "        \n",
    "cv2.imshow(\"OutPut\",image)\n",
    "cv2.waitKey(0)\n",
    "cv2.destroyAllWindows()"
   ]
  },
  {
   "cell_type": "code",
   "execution_count": null,
   "id": "changing-excuse",
   "metadata": {},
   "outputs": [],
   "source": []
  }
 ],
 "metadata": {
  "kernelspec": {
   "display_name": "Python 3",
   "language": "python",
   "name": "python3"
  },
  "language_info": {
   "codemirror_mode": {
    "name": "ipython",
    "version": 3
   },
   "file_extension": ".py",
   "mimetype": "text/x-python",
   "name": "python",
   "nbconvert_exporter": "python",
   "pygments_lexer": "ipython3",
   "version": "3.8.5"
  }
 },
 "nbformat": 4,
 "nbformat_minor": 5
}
